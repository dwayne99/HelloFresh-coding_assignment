{
 "cells": [
  {
   "cell_type": "markdown",
   "id": "3601c41a-96a3-4710-b14d-0e66042b0927",
   "metadata": {},
   "source": [
    "**1. Necessary Imports and dependancies**"
   ]
  },
  {
   "cell_type": "code",
   "execution_count": 34,
   "id": "da10a6e1-5356-499a-9694-183aa7df5313",
   "metadata": {},
   "outputs": [
    {
     "name": "stdout",
     "output_type": "stream",
     "text": [
      "Collecting meteostat\n",
      "  Downloading meteostat-1.6.3-py3-none-any.whl (31 kB)\n",
      "Requirement already satisfied: pytz in /Users/dwayne/miniconda3/lib/python3.8/site-packages (from meteostat) (2021.3)\n",
      "Requirement already satisfied: pandas>=1.1 in /Users/dwayne/miniconda3/lib/python3.8/site-packages (from meteostat) (1.3.5)\n",
      "Requirement already satisfied: numpy in /Users/dwayne/miniconda3/lib/python3.8/site-packages (from meteostat) (1.21.4)\n",
      "Requirement already satisfied: python-dateutil>=2.7.3 in /Users/dwayne/miniconda3/lib/python3.8/site-packages (from pandas>=1.1->meteostat) (2.8.2)\n",
      "Requirement already satisfied: six>=1.5 in /Users/dwayne/miniconda3/lib/python3.8/site-packages (from python-dateutil>=2.7.3->pandas>=1.1->meteostat) (1.16.0)\n",
      "Installing collected packages: meteostat\n",
      "Successfully installed meteostat-1.6.3\n"
     ]
    }
   ],
   "source": [
    "!pip install meteostat"
   ]
  },
  {
   "cell_type": "code",
   "execution_count": 92,
   "id": "89b12942-5f12-4574-b674-d75fea999d6c",
   "metadata": {},
   "outputs": [],
   "source": [
    "import pandas as pd\n",
    "from meteostat import Point, Daily\n",
    "from datetime import datetime"
   ]
  },
  {
   "cell_type": "markdown",
   "id": "7117213b-2a68-4a9b-8eb6-47c06670fc3e",
   "metadata": {},
   "source": [
    "**2. LOAD the orders data**"
   ]
  },
  {
   "cell_type": "code",
   "execution_count": 93,
   "id": "8093ada2-f592-4b2f-800a-78464d7fd2a3",
   "metadata": {},
   "outputs": [
    {
     "name": "stdout",
     "output_type": "stream",
     "text": [
      "Size of dataset = (2000, 5)\n"
     ]
    },
    {
     "data": {
      "text/html": [
       "<div>\n",
       "<style scoped>\n",
       "    .dataframe tbody tr th:only-of-type {\n",
       "        vertical-align: middle;\n",
       "    }\n",
       "\n",
       "    .dataframe tbody tr th {\n",
       "        vertical-align: top;\n",
       "    }\n",
       "\n",
       "    .dataframe thead th {\n",
       "        text-align: right;\n",
       "    }\n",
       "</style>\n",
       "<table border=\"1\" class=\"dataframe\">\n",
       "  <thead>\n",
       "    <tr style=\"text-align: right;\">\n",
       "      <th></th>\n",
       "      <th>box_id</th>\n",
       "      <th>delivery_date</th>\n",
       "      <th>Cool Pouch Size</th>\n",
       "      <th>Box Size</th>\n",
       "      <th>postcode</th>\n",
       "    </tr>\n",
       "  </thead>\n",
       "  <tbody>\n",
       "    <tr>\n",
       "      <th>0</th>\n",
       "      <td>GB231</td>\n",
       "      <td>19/02/2022 00:00</td>\n",
       "      <td>M</td>\n",
       "      <td>L</td>\n",
       "      <td>CH624SX</td>\n",
       "    </tr>\n",
       "    <tr>\n",
       "      <th>1</th>\n",
       "      <td>GB1481</td>\n",
       "      <td>20/02/2022 00:00</td>\n",
       "      <td>M</td>\n",
       "      <td>M</td>\n",
       "      <td>LS178RS</td>\n",
       "    </tr>\n",
       "    <tr>\n",
       "      <th>2</th>\n",
       "      <td>GB1681</td>\n",
       "      <td>20/02/2022 00:00</td>\n",
       "      <td>M</td>\n",
       "      <td>M</td>\n",
       "      <td>CO27LR</td>\n",
       "    </tr>\n",
       "    <tr>\n",
       "      <th>3</th>\n",
       "      <td>GB1104</td>\n",
       "      <td>20/02/2022 00:00</td>\n",
       "      <td>S</td>\n",
       "      <td>M</td>\n",
       "      <td>EH177ES</td>\n",
       "    </tr>\n",
       "    <tr>\n",
       "      <th>4</th>\n",
       "      <td>GB1343</td>\n",
       "      <td>21/02/2022 00:00</td>\n",
       "      <td>L</td>\n",
       "      <td>L</td>\n",
       "      <td>IP84FA</td>\n",
       "    </tr>\n",
       "  </tbody>\n",
       "</table>\n",
       "</div>"
      ],
      "text/plain": [
       "   box_id     delivery_date Cool Pouch Size Box Size postcode\n",
       "0   GB231  19/02/2022 00:00               M        L  CH624SX\n",
       "1  GB1481  20/02/2022 00:00               M        M  LS178RS\n",
       "2  GB1681  20/02/2022 00:00               M        M   CO27LR\n",
       "3  GB1104  20/02/2022 00:00               S        M  EH177ES\n",
       "4  GB1343  21/02/2022 00:00               L        L   IP84FA"
      ]
     },
     "execution_count": 93,
     "metadata": {},
     "output_type": "execute_result"
    }
   ],
   "source": [
    "orders_dataset_path = 'data/Boxes.csv'\n",
    "orders = pd.read_csv(orders_dataset_path)\n",
    "print(f\"Size of dataset = {orders.shape}\")\n",
    "orders.head()"
   ]
  },
  {
   "cell_type": "code",
   "execution_count": 95,
   "id": "1bd4954d-4ad7-4684-8077-fbe85ed05639",
   "metadata": {},
   "outputs": [
    {
     "name": "stdout",
     "output_type": "stream",
     "text": [
      "<class 'pandas.core.frame.DataFrame'>\n",
      "RangeIndex: 2000 entries, 0 to 1999\n",
      "Data columns (total 5 columns):\n",
      " #   Column           Non-Null Count  Dtype         \n",
      "---  ------           --------------  -----         \n",
      " 0   box_id           2000 non-null   object        \n",
      " 1   delivery_date    2000 non-null   datetime64[ns]\n",
      " 2   Cool Pouch Size  2000 non-null   object        \n",
      " 3   Box Size         2000 non-null   object        \n",
      " 4   postcode         2000 non-null   object        \n",
      "dtypes: datetime64[ns](1), object(4)\n",
      "memory usage: 78.2+ KB\n"
     ]
    }
   ],
   "source": [
    "# change dtype of delivery_date column to date type\n",
    "orders['delivery_date'] = pd.to_datetime(orders['delivery_date'])\n",
    "\n",
    "orders.info()"
   ]
  },
  {
   "cell_type": "code",
   "execution_count": 96,
   "id": "cd576e0c-1d95-4f89-8d14-b4e725b08b69",
   "metadata": {},
   "outputs": [
    {
     "data": {
      "text/html": [
       "<div>\n",
       "<style scoped>\n",
       "    .dataframe tbody tr th:only-of-type {\n",
       "        vertical-align: middle;\n",
       "    }\n",
       "\n",
       "    .dataframe tbody tr th {\n",
       "        vertical-align: top;\n",
       "    }\n",
       "\n",
       "    .dataframe thead th {\n",
       "        text-align: right;\n",
       "    }\n",
       "</style>\n",
       "<table border=\"1\" class=\"dataframe\">\n",
       "  <thead>\n",
       "    <tr style=\"text-align: right;\">\n",
       "      <th></th>\n",
       "      <th>box_id</th>\n",
       "      <th>delivery_date</th>\n",
       "      <th>Cool Pouch Size</th>\n",
       "      <th>Box Size</th>\n",
       "      <th>postcode</th>\n",
       "      <th>num_ice_packs</th>\n",
       "    </tr>\n",
       "  </thead>\n",
       "  <tbody>\n",
       "    <tr>\n",
       "      <th>0</th>\n",
       "      <td>GB231</td>\n",
       "      <td>2022-02-19</td>\n",
       "      <td>M</td>\n",
       "      <td>L</td>\n",
       "      <td>CH624SX</td>\n",
       "      <td>0</td>\n",
       "    </tr>\n",
       "    <tr>\n",
       "      <th>1</th>\n",
       "      <td>GB1481</td>\n",
       "      <td>2022-02-20</td>\n",
       "      <td>M</td>\n",
       "      <td>M</td>\n",
       "      <td>LS178RS</td>\n",
       "      <td>0</td>\n",
       "    </tr>\n",
       "    <tr>\n",
       "      <th>2</th>\n",
       "      <td>GB1681</td>\n",
       "      <td>2022-02-20</td>\n",
       "      <td>M</td>\n",
       "      <td>M</td>\n",
       "      <td>CO27LR</td>\n",
       "      <td>0</td>\n",
       "    </tr>\n",
       "    <tr>\n",
       "      <th>3</th>\n",
       "      <td>GB1104</td>\n",
       "      <td>2022-02-20</td>\n",
       "      <td>S</td>\n",
       "      <td>M</td>\n",
       "      <td>EH177ES</td>\n",
       "      <td>0</td>\n",
       "    </tr>\n",
       "    <tr>\n",
       "      <th>4</th>\n",
       "      <td>GB1343</td>\n",
       "      <td>2022-02-21</td>\n",
       "      <td>L</td>\n",
       "      <td>L</td>\n",
       "      <td>IP84FA</td>\n",
       "      <td>0</td>\n",
       "    </tr>\n",
       "  </tbody>\n",
       "</table>\n",
       "</div>"
      ],
      "text/plain": [
       "   box_id delivery_date Cool Pouch Size Box Size postcode  num_ice_packs\n",
       "0   GB231    2022-02-19               M        L  CH624SX              0\n",
       "1  GB1481    2022-02-20               M        M  LS178RS              0\n",
       "2  GB1681    2022-02-20               M        M   CO27LR              0\n",
       "3  GB1104    2022-02-20               S        M  EH177ES              0\n",
       "4  GB1343    2022-02-21               L        L   IP84FA              0"
      ]
     },
     "execution_count": 96,
     "metadata": {},
     "output_type": "execute_result"
    }
   ],
   "source": [
    "# Add a column to the dataset to store the number of ice-packs required\n",
    "orders['num_ice_packs'] = 0\n",
    "orders.head()"
   ]
  },
  {
   "cell_type": "markdown",
   "id": "b44696f3-4e66-4802-9674-fcb46324f0e6",
   "metadata": {},
   "source": [
    "**3. Read INPUT dataset for temperature ranges associated with the number of ice packs**"
   ]
  },
  {
   "cell_type": "code",
   "execution_count": 97,
   "id": "1fae30d3-e089-479a-941c-b6e266e507e3",
   "metadata": {},
   "outputs": [
    {
     "name": "stdout",
     "output_type": "stream",
     "text": [
      "Size of Temperature bands dataset = (7, 5)\n"
     ]
    },
    {
     "data": {
      "text/html": [
       "<div>\n",
       "<style scoped>\n",
       "    .dataframe tbody tr th:only-of-type {\n",
       "        vertical-align: middle;\n",
       "    }\n",
       "\n",
       "    .dataframe tbody tr th {\n",
       "        vertical-align: top;\n",
       "    }\n",
       "\n",
       "    .dataframe thead th {\n",
       "        text-align: right;\n",
       "    }\n",
       "</style>\n",
       "<table border=\"1\" class=\"dataframe\">\n",
       "  <thead>\n",
       "    <tr style=\"text-align: right;\">\n",
       "      <th></th>\n",
       "      <th>temperature_min</th>\n",
       "      <th>temperature_max</th>\n",
       "      <th>S</th>\n",
       "      <th>M</th>\n",
       "      <th>L</th>\n",
       "    </tr>\n",
       "  </thead>\n",
       "  <tbody>\n",
       "    <tr>\n",
       "      <th>0</th>\n",
       "      <td>-10</td>\n",
       "      <td>4</td>\n",
       "      <td>1</td>\n",
       "      <td>1</td>\n",
       "      <td>1</td>\n",
       "    </tr>\n",
       "    <tr>\n",
       "      <th>1</th>\n",
       "      <td>4</td>\n",
       "      <td>10</td>\n",
       "      <td>1</td>\n",
       "      <td>2</td>\n",
       "      <td>2</td>\n",
       "    </tr>\n",
       "    <tr>\n",
       "      <th>2</th>\n",
       "      <td>10</td>\n",
       "      <td>16</td>\n",
       "      <td>2</td>\n",
       "      <td>3</td>\n",
       "      <td>3</td>\n",
       "    </tr>\n",
       "    <tr>\n",
       "      <th>3</th>\n",
       "      <td>16</td>\n",
       "      <td>19</td>\n",
       "      <td>2</td>\n",
       "      <td>3</td>\n",
       "      <td>4</td>\n",
       "    </tr>\n",
       "    <tr>\n",
       "      <th>4</th>\n",
       "      <td>19</td>\n",
       "      <td>24</td>\n",
       "      <td>3</td>\n",
       "      <td>4</td>\n",
       "      <td>5</td>\n",
       "    </tr>\n",
       "    <tr>\n",
       "      <th>5</th>\n",
       "      <td>24</td>\n",
       "      <td>30</td>\n",
       "      <td>4</td>\n",
       "      <td>5</td>\n",
       "      <td>6</td>\n",
       "    </tr>\n",
       "    <tr>\n",
       "      <th>6</th>\n",
       "      <td>30</td>\n",
       "      <td>35</td>\n",
       "      <td>5</td>\n",
       "      <td>6</td>\n",
       "      <td>7</td>\n",
       "    </tr>\n",
       "  </tbody>\n",
       "</table>\n",
       "</div>"
      ],
      "text/plain": [
       "   temperature_min  temperature_max  S  M  L\n",
       "0              -10                4  1  1  1\n",
       "1                4               10  1  2  2\n",
       "2               10               16  2  3  3\n",
       "3               16               19  2  3  4\n",
       "4               19               24  3  4  5\n",
       "5               24               30  4  5  6\n",
       "6               30               35  5  6  7"
      ]
     },
     "execution_count": 97,
     "metadata": {},
     "output_type": "execute_result"
    }
   ],
   "source": [
    "temperature_bands_path = 'data/Temperature_bands.csv'\n",
    "temp_bands = pd.read_csv(temperature_bands_path)\n",
    "print(f\"Size of Temperature bands dataset = {temp_bands.shape}\")\n",
    "temp_bands"
   ]
  },
  {
   "cell_type": "markdown",
   "id": "f37cfeea-5c56-441f-8e4a-811d3999056d",
   "metadata": {},
   "source": [
    "**4. Meteostat API to get weather**"
   ]
  },
  {
   "cell_type": "code",
   "execution_count": 98,
   "id": "9bb2b162-2bd7-4506-a95c-f620eaffa934",
   "metadata": {},
   "outputs": [
    {
     "name": "stdout",
     "output_type": "stream",
     "text": [
      "Stations in United Kingdom: 177\n"
     ]
    }
   ],
   "source": [
    "from meteostat import Stations\n",
    "\n",
    "stations = Stations()\n",
    "stations = stations.region('GB')\n",
    "\n",
    "print('Stations in United Kingdom:', stations.count())"
   ]
  },
  {
   "cell_type": "code",
   "execution_count": 99,
   "id": "6636b7b5-1d94-4cc6-aba8-e8b9f365b1d8",
   "metadata": {},
   "outputs": [
    {
     "data": {
      "text/html": [
       "<div>\n",
       "<style scoped>\n",
       "    .dataframe tbody tr th:only-of-type {\n",
       "        vertical-align: middle;\n",
       "    }\n",
       "\n",
       "    .dataframe tbody tr th {\n",
       "        vertical-align: top;\n",
       "    }\n",
       "\n",
       "    .dataframe thead th {\n",
       "        text-align: right;\n",
       "    }\n",
       "</style>\n",
       "<table border=\"1\" class=\"dataframe\">\n",
       "  <thead>\n",
       "    <tr style=\"text-align: right;\">\n",
       "      <th></th>\n",
       "      <th>name</th>\n",
       "      <th>country</th>\n",
       "      <th>region</th>\n",
       "      <th>wmo</th>\n",
       "      <th>icao</th>\n",
       "      <th>latitude</th>\n",
       "      <th>longitude</th>\n",
       "      <th>elevation</th>\n",
       "      <th>timezone</th>\n",
       "      <th>hourly_start</th>\n",
       "      <th>hourly_end</th>\n",
       "      <th>daily_start</th>\n",
       "      <th>daily_end</th>\n",
       "      <th>monthly_start</th>\n",
       "      <th>monthly_end</th>\n",
       "      <th>distance</th>\n",
       "    </tr>\n",
       "    <tr>\n",
       "      <th>id</th>\n",
       "      <th></th>\n",
       "      <th></th>\n",
       "      <th></th>\n",
       "      <th></th>\n",
       "      <th></th>\n",
       "      <th></th>\n",
       "      <th></th>\n",
       "      <th></th>\n",
       "      <th></th>\n",
       "      <th></th>\n",
       "      <th></th>\n",
       "      <th></th>\n",
       "      <th></th>\n",
       "      <th></th>\n",
       "      <th></th>\n",
       "      <th></th>\n",
       "    </tr>\n",
       "  </thead>\n",
       "  <tbody>\n",
       "    <tr>\n",
       "      <th>03779</th>\n",
       "      <td>London Weather Centre</td>\n",
       "      <td>GB</td>\n",
       "      <td>ENG</td>\n",
       "      <td>03779</td>\n",
       "      <td>EGRB</td>\n",
       "      <td>51.5167</td>\n",
       "      <td>-0.1167</td>\n",
       "      <td>5.0</td>\n",
       "      <td>Europe/London</td>\n",
       "      <td>1992-04-01</td>\n",
       "      <td>2010-02-01</td>\n",
       "      <td>1992-04-03</td>\n",
       "      <td>2010-01-31</td>\n",
       "      <td>2006-01-01</td>\n",
       "      <td>2009-01-01</td>\n",
       "      <td>766.097374</td>\n",
       "    </tr>\n",
       "  </tbody>\n",
       "</table>\n",
       "</div>"
      ],
      "text/plain": [
       "                        name country region    wmo  icao  latitude  longitude  \\\n",
       "id                                                                              \n",
       "03779  London Weather Centre      GB    ENG  03779  EGRB   51.5167    -0.1167   \n",
       "\n",
       "       elevation       timezone hourly_start hourly_end daily_start  \\\n",
       "id                                                                    \n",
       "03779        5.0  Europe/London   1992-04-01 2010-02-01  1992-04-03   \n",
       "\n",
       "       daily_end monthly_start monthly_end    distance  \n",
       "id                                                      \n",
       "03779 2010-01-31    2006-01-01  2009-01-01  766.097374  "
      ]
     },
     "execution_count": 99,
     "metadata": {},
     "output_type": "execute_result"
    }
   ],
   "source": [
    "UK_lat = 51.509865\n",
    "UK_long = -0.118092\n",
    "\n",
    "stations = Stations()\n",
    "stations = stations.nearby(UK_lat, UK_long)\n",
    "station = stations.fetch(1)\n",
    "\n",
    "# Print DataFrame\n",
    "station"
   ]
  },
  {
   "cell_type": "code",
   "execution_count": 100,
   "id": "c8df6bee-33b2-469c-b0f8-da836760b0cd",
   "metadata": {},
   "outputs": [
    {
     "data": {
      "text/html": [
       "<div>\n",
       "<style scoped>\n",
       "    .dataframe tbody tr th:only-of-type {\n",
       "        vertical-align: middle;\n",
       "    }\n",
       "\n",
       "    .dataframe tbody tr th {\n",
       "        vertical-align: top;\n",
       "    }\n",
       "\n",
       "    .dataframe thead th {\n",
       "        text-align: right;\n",
       "    }\n",
       "</style>\n",
       "<table border=\"1\" class=\"dataframe\">\n",
       "  <thead>\n",
       "    <tr style=\"text-align: right;\">\n",
       "      <th></th>\n",
       "      <th>tavg</th>\n",
       "      <th>tmin</th>\n",
       "      <th>tmax</th>\n",
       "      <th>prcp</th>\n",
       "      <th>snow</th>\n",
       "      <th>wdir</th>\n",
       "      <th>wspd</th>\n",
       "      <th>wpgt</th>\n",
       "      <th>pres</th>\n",
       "      <th>tsun</th>\n",
       "    </tr>\n",
       "    <tr>\n",
       "      <th>time</th>\n",
       "      <th></th>\n",
       "      <th></th>\n",
       "      <th></th>\n",
       "      <th></th>\n",
       "      <th></th>\n",
       "      <th></th>\n",
       "      <th></th>\n",
       "      <th></th>\n",
       "      <th></th>\n",
       "      <th></th>\n",
       "    </tr>\n",
       "  </thead>\n",
       "  <tbody>\n",
       "    <tr>\n",
       "      <th>2021-07-19</th>\n",
       "      <td>22.5</td>\n",
       "      <td>17.2</td>\n",
       "      <td>27.9</td>\n",
       "      <td>NaN</td>\n",
       "      <td>NaN</td>\n",
       "      <td>182.0</td>\n",
       "      <td>8.4</td>\n",
       "      <td>24.1</td>\n",
       "      <td>1021.5</td>\n",
       "      <td>NaN</td>\n",
       "    </tr>\n",
       "  </tbody>\n",
       "</table>\n",
       "</div>"
      ],
      "text/plain": [
       "            tavg  tmin  tmax  prcp  snow   wdir  wspd  wpgt    pres  tsun\n",
       "time                                                                     \n",
       "2021-07-19  22.5  17.2  27.9   NaN   NaN  182.0   8.4  24.1  1021.5   NaN"
      ]
     },
     "execution_count": 100,
     "metadata": {},
     "output_type": "execute_result"
    }
   ],
   "source": [
    "UK_weath_station_ID = '03779'\n",
    "\n",
    "# Get data for time period\n",
    "start = datetime(2021, 7, 19)\n",
    "end = datetime(2021, 7, 19)\n",
    "data = Daily(UK_weath_station_ID, start, end)\n",
    "data = data.fetch()\n",
    "data"
   ]
  },
  {
   "cell_type": "markdown",
   "id": "bb54917b-ce24-462e-a9c5-92449c9a414f",
   "metadata": {},
   "source": [
    "**5. Iterate over the dataset and Calculate the number of ice packs required**"
   ]
  },
  {
   "cell_type": "code",
   "execution_count": 182,
   "id": "8ee92325-566e-481b-a010-162c49de7022",
   "metadata": {},
   "outputs": [
    {
     "data": {
      "text/html": [
       "<div>\n",
       "<style scoped>\n",
       "    .dataframe tbody tr th:only-of-type {\n",
       "        vertical-align: middle;\n",
       "    }\n",
       "\n",
       "    .dataframe tbody tr th {\n",
       "        vertical-align: top;\n",
       "    }\n",
       "\n",
       "    .dataframe thead th {\n",
       "        text-align: right;\n",
       "    }\n",
       "</style>\n",
       "<table border=\"1\" class=\"dataframe\">\n",
       "  <thead>\n",
       "    <tr style=\"text-align: right;\">\n",
       "      <th></th>\n",
       "      <th>box_id</th>\n",
       "      <th>delivery_date</th>\n",
       "      <th>Cool Pouch Size</th>\n",
       "      <th>Box Size</th>\n",
       "      <th>postcode</th>\n",
       "      <th>num_ice_packs</th>\n",
       "    </tr>\n",
       "  </thead>\n",
       "  <tbody>\n",
       "    <tr>\n",
       "      <th>0</th>\n",
       "      <td>GB231</td>\n",
       "      <td>2022-02-19</td>\n",
       "      <td>M</td>\n",
       "      <td>L</td>\n",
       "      <td>CH624SX</td>\n",
       "      <td>2</td>\n",
       "    </tr>\n",
       "    <tr>\n",
       "      <th>1</th>\n",
       "      <td>GB1481</td>\n",
       "      <td>2022-02-20</td>\n",
       "      <td>M</td>\n",
       "      <td>M</td>\n",
       "      <td>LS178RS</td>\n",
       "      <td>2</td>\n",
       "    </tr>\n",
       "    <tr>\n",
       "      <th>2</th>\n",
       "      <td>GB1681</td>\n",
       "      <td>2022-02-20</td>\n",
       "      <td>M</td>\n",
       "      <td>M</td>\n",
       "      <td>CO27LR</td>\n",
       "      <td>2</td>\n",
       "    </tr>\n",
       "    <tr>\n",
       "      <th>3</th>\n",
       "      <td>GB1104</td>\n",
       "      <td>2022-02-20</td>\n",
       "      <td>S</td>\n",
       "      <td>M</td>\n",
       "      <td>EH177ES</td>\n",
       "      <td>1</td>\n",
       "    </tr>\n",
       "    <tr>\n",
       "      <th>4</th>\n",
       "      <td>GB1343</td>\n",
       "      <td>2022-02-21</td>\n",
       "      <td>L</td>\n",
       "      <td>L</td>\n",
       "      <td>IP84FA</td>\n",
       "      <td>2</td>\n",
       "    </tr>\n",
       "  </tbody>\n",
       "</table>\n",
       "</div>"
      ],
      "text/plain": [
       "   box_id delivery_date Cool Pouch Size Box Size postcode  num_ice_packs\n",
       "0   GB231    2022-02-19               M        L  CH624SX              2\n",
       "1  GB1481    2022-02-20               M        M  LS178RS              2\n",
       "2  GB1681    2022-02-20               M        M   CO27LR              2\n",
       "3  GB1104    2022-02-20               S        M  EH177ES              1\n",
       "4  GB1343    2022-02-21               L        L   IP84FA              2"
      ]
     },
     "execution_count": 182,
     "metadata": {},
     "output_type": "execute_result"
    }
   ],
   "source": [
    "def get_packs_count(temp_bands,temp, size):\n",
    "\n",
    "    # iterate over the temperature bands\n",
    "    for i, row in temp_bands.iterrows():\n",
    "        if temp >= row['temperature_min'] and temp <= row['temperature_max']:\n",
    "            return row[size]\n",
    "\n",
    "TEMP = []\n",
    "for i,order in orders.iterrows():\n",
    "    \n",
    "    # get the year, month and construct date in required format for API\n",
    "    year, month, day = int(order['delivery_date'].strftime('%Y')),int(order['delivery_date'].strftime('%m')),int(order['delivery_date'].strftime('%d'))\n",
    "    start_date = datetime(year,month,day)\n",
    "    # get temperature for the specific date\n",
    "    temp = Daily(UK_weath_station_ID, start_date, start_date).fetch().tavg[0]\n",
    "    TEMP.append(temp)\n",
    "    size = order['Cool Pouch Size']\n",
    "    \n",
    "    orders.at[i,'num_ice_packs'] = get_packs_count(temp_bands,temp,size)\n",
    "    \n",
    "    \n",
    "orders.head()"
   ]
  },
  {
   "cell_type": "code",
   "execution_count": 184,
   "id": "28467869-46af-441e-990a-dd5489e64c54",
   "metadata": {},
   "outputs": [
    {
     "data": {
      "text/plain": [
       "2    1466\n",
       "1     534\n",
       "Name: num_ice_packs, dtype: int64"
      ]
     },
     "execution_count": 184,
     "metadata": {},
     "output_type": "execute_result"
    }
   ],
   "source": [
    "orders.num_ice_packs.value_counts()"
   ]
  },
  {
   "cell_type": "markdown",
   "id": "23507e71-396d-40c6-849f-6ebc61ace74c",
   "metadata": {},
   "source": [
    "**6. Visualisations**"
   ]
  },
  {
   "cell_type": "code",
   "execution_count": 185,
   "id": "c4e7f6b7-71f8-4190-ae20-a207fcf48434",
   "metadata": {},
   "outputs": [
    {
     "data": {
      "text/plain": [
       "[<matplotlib.lines.Line2D at 0x15a765130>]"
      ]
     },
     "execution_count": 185,
     "metadata": {},
     "output_type": "execute_result"
    },
    {
     "data": {
      "image/png": "[encoded data removed]",
      "text/plain": [
       "<Figure size 1440x480 with 1 Axes>"
      ]
     },
     "metadata": {
      "needs_background": "light"
     },
     "output_type": "display_data"
    }
   ],
   "source": [
    "import matplotlib.pyplot as plt\n",
    "from matplotlib.pyplot import figure\n",
    "\n",
    "figure(figsize=(18, 6), dpi=80)\n",
    "plt.plot(TEMP)"
   ]
  },
  {
   "cell_type": "code",
   "execution_count": 186,
   "id": "81f8ff64-a7af-40dd-b74e-ff228bccbb5a",
   "metadata": {},
   "outputs": [
    {
     "data": {
      "text/plain": [
       "(9.0, 4.5)"
      ]
     },
     "execution_count": 186,
     "metadata": {},
     "output_type": "execute_result"
    }
   ],
   "source": [
    "max(TEMP),min(TEMP)"
   ]
  },
  {
   "cell_type": "markdown",
   "id": "3c974cf3-2253-4ed1-98cb-e95e69b0bf99",
   "metadata": {},
   "source": [
    "**For the given orders dataset the temperature ranges between 4.5-9.0 C**"
   ]
  },
  {
   "cell_type": "code",
   "execution_count": 187,
   "id": "2dfe4b95-132e-489c-9d7e-4a3e1f50beb1",
   "metadata": {},
   "outputs": [
    {
     "data": {
      "text/plain": [
       "M    1155\n",
       "S     534\n",
       "L     311\n",
       "Name: Cool Pouch Size, dtype: int64"
      ]
     },
     "execution_count": 187,
     "metadata": {},
     "output_type": "execute_result"
    }
   ],
   "source": [
    "orders['Cool Pouch Size'].value_counts()"
   ]
  },
  {
   "cell_type": "markdown",
   "id": "9cb57414-d8db-492e-b635-4f3cdde51359",
   "metadata": {},
   "source": [
    "**7. Export to CSV**"
   ]
  },
  {
   "cell_type": "code",
   "execution_count": 189,
   "id": "aed715dd-2044-49d3-b009-867d2da8061d",
   "metadata": {},
   "outputs": [],
   "source": [
    "orders.to_csv('out.csv',index=False)"
   ]
  },
  {
   "cell_type": "code",
   "execution_count": null,
   "id": "734c4148-323d-47f5-9168-a52bf77199e4",
   "metadata": {},
   "outputs": [],
   "source": []
  }
 ],
 "metadata": {
  "kernelspec": {
   "display_name": "Python 3 (ipykernel)",
   "language": "python",
   "name": "python3"
  },
  "language_info": {
   "codemirror_mode": {
    "name": "ipython",
    "version": 3
   },
   "file_extension": ".py",
   "mimetype": "text/x-python",
   "name": "python",
   "nbconvert_exporter": "python",
   "pygments_lexer": "ipython3",
   "version": "3.8.11"
  }
 },
 "nbformat": 4,
 "nbformat_minor": 5
}
